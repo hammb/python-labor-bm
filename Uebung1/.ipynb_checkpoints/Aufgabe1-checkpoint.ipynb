{
 "cells": [
  {
   "cell_type": "code",
   "execution_count": 12,
   "metadata": {},
   "outputs": [
    {
     "name": "stdout",
     "output_type": "stream",
     "text": [
      "[2, 3, 5]\n"
     ]
    }
   ],
   "source": [
    "class myDictClass:\n",
    "    def __init__(self):\n",
    "        self.__dict ={}\n",
    "        self.__key = 1\n",
    "        \n",
    "    def getListWithElement(self,element):\n",
    "        for key, liste in self.__dict.items():\n",
    "            if element in liste:\n",
    "                helper = key\n",
    "                \n",
    "        return self.__dict[helper]\n",
    "        \n",
    "    def appendList(self,newList):\n",
    "        self.__dict[self.__key] = newList\n",
    "        self.__key = self.__key + 1\n",
    "        \n",
    "    def getDict(self):\n",
    "        return self.__dict\n",
    "    \n",
    "    def getKey(self):\n",
    "        return self.__key\n",
    "\n",
    "mdc = myDictClass()\n",
    "mdc.appendList([1, 2, 3])\n",
    "mdc.appendList([2, 3, 4])\n",
    "mdc.appendList([2, 3, 5])\n",
    "print(mdc.getListWithElement(2))"
   ]
  },
  {
   "cell_type": "code",
   "execution_count": null,
   "metadata": {},
   "outputs": [],
   "source": []
  }
 ],
 "metadata": {
  "kernelspec": {
   "display_name": "Python 3",
   "language": "python",
   "name": "python3"
  },
  "language_info": {
   "codemirror_mode": {
    "name": "ipython",
    "version": 3
   },
   "file_extension": ".py",
   "mimetype": "text/x-python",
   "name": "python",
   "nbconvert_exporter": "python",
   "pygments_lexer": "ipython3",
   "version": "3.7.4"
  }
 },
 "nbformat": 4,
 "nbformat_minor": 2
}
